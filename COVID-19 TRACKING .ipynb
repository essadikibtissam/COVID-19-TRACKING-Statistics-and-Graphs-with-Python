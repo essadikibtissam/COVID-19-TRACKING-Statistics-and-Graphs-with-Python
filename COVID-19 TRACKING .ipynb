{
 "cells": [
  {
   "cell_type": "markdown",
   "metadata": {},
   "source": [
    "## <center> COVID-19 TRACKING (Statistics and Graphs )"
   ]
  },
  {
   "cell_type": "markdown",
   "metadata": {},
   "source": [
    "Pour realiser ce tuto, il faut tout d'abord accéder aux données du coronavirus à partir du lien : <font size=3>https://datahub.io/core/covid-19/r/time-series-19-covid-combined.csv </font> "
   ]
  },
  {
   "cell_type": "code",
   "execution_count": 1,
   "metadata": {},
   "outputs": [],
   "source": [
    "from datetime import datetime\n",
    "from ipywidgets import interact_manual, interact,interactive\n",
    "import ipywidgets as ipw\n",
    "import pandas as pd\n",
    "import plotly.graph_objects as graph"
   ]
  },
  {
   "cell_type": "code",
   "execution_count": 2,
   "metadata": {},
   "outputs": [],
   "source": [
    "df=pd.read_csv('time-series-19-covid-combined.csv')"
   ]
  },
  {
   "cell_type": "code",
   "execution_count": 3,
   "metadata": {},
   "outputs": [
    {
     "data": {
      "text/html": [
       "<div>\n",
       "<style scoped>\n",
       "    .dataframe tbody tr th:only-of-type {\n",
       "        vertical-align: middle;\n",
       "    }\n",
       "\n",
       "    .dataframe tbody tr th {\n",
       "        vertical-align: top;\n",
       "    }\n",
       "\n",
       "    .dataframe thead th {\n",
       "        text-align: right;\n",
       "    }\n",
       "</style>\n",
       "<table border=\"1\" class=\"dataframe\">\n",
       "  <thead>\n",
       "    <tr style=\"text-align: right;\">\n",
       "      <th></th>\n",
       "      <th>Date</th>\n",
       "      <th>Country/Region</th>\n",
       "      <th>Province/State</th>\n",
       "      <th>Lat</th>\n",
       "      <th>Long</th>\n",
       "      <th>Confirmed</th>\n",
       "      <th>Recovered</th>\n",
       "      <th>Deaths</th>\n",
       "    </tr>\n",
       "  </thead>\n",
       "  <tbody>\n",
       "    <tr>\n",
       "      <th>0</th>\n",
       "      <td>2020-01-22</td>\n",
       "      <td>Afghanistan</td>\n",
       "      <td>NaN</td>\n",
       "      <td>33.0</td>\n",
       "      <td>65.0</td>\n",
       "      <td>0.0</td>\n",
       "      <td>0.0</td>\n",
       "      <td>0.0</td>\n",
       "    </tr>\n",
       "    <tr>\n",
       "      <th>1</th>\n",
       "      <td>2020-01-23</td>\n",
       "      <td>Afghanistan</td>\n",
       "      <td>NaN</td>\n",
       "      <td>33.0</td>\n",
       "      <td>65.0</td>\n",
       "      <td>0.0</td>\n",
       "      <td>0.0</td>\n",
       "      <td>0.0</td>\n",
       "    </tr>\n",
       "    <tr>\n",
       "      <th>2</th>\n",
       "      <td>2020-01-24</td>\n",
       "      <td>Afghanistan</td>\n",
       "      <td>NaN</td>\n",
       "      <td>33.0</td>\n",
       "      <td>65.0</td>\n",
       "      <td>0.0</td>\n",
       "      <td>0.0</td>\n",
       "      <td>0.0</td>\n",
       "    </tr>\n",
       "    <tr>\n",
       "      <th>3</th>\n",
       "      <td>2020-01-25</td>\n",
       "      <td>Afghanistan</td>\n",
       "      <td>NaN</td>\n",
       "      <td>33.0</td>\n",
       "      <td>65.0</td>\n",
       "      <td>0.0</td>\n",
       "      <td>0.0</td>\n",
       "      <td>0.0</td>\n",
       "    </tr>\n",
       "    <tr>\n",
       "      <th>4</th>\n",
       "      <td>2020-01-26</td>\n",
       "      <td>Afghanistan</td>\n",
       "      <td>NaN</td>\n",
       "      <td>33.0</td>\n",
       "      <td>65.0</td>\n",
       "      <td>0.0</td>\n",
       "      <td>0.0</td>\n",
       "      <td>0.0</td>\n",
       "    </tr>\n",
       "  </tbody>\n",
       "</table>\n",
       "</div>"
      ],
      "text/plain": [
       "         Date Country/Region Province/State   Lat  Long  Confirmed  Recovered  \\\n",
       "0  2020-01-22    Afghanistan            NaN  33.0  65.0        0.0        0.0   \n",
       "1  2020-01-23    Afghanistan            NaN  33.0  65.0        0.0        0.0   \n",
       "2  2020-01-24    Afghanistan            NaN  33.0  65.0        0.0        0.0   \n",
       "3  2020-01-25    Afghanistan            NaN  33.0  65.0        0.0        0.0   \n",
       "4  2020-01-26    Afghanistan            NaN  33.0  65.0        0.0        0.0   \n",
       "\n",
       "   Deaths  \n",
       "0     0.0  \n",
       "1     0.0  \n",
       "2     0.0  \n",
       "3     0.0  \n",
       "4     0.0  "
      ]
     },
     "execution_count": 3,
     "metadata": {},
     "output_type": "execute_result"
    }
   ],
   "source": [
    "df.head()"
   ]
  },
  {
   "cell_type": "code",
   "execution_count": 4,
   "metadata": {},
   "outputs": [
    {
     "data": {
      "text/plain": [
       "0    2020-01-22\n",
       "1    2020-01-23\n",
       "2    2020-01-24\n",
       "3    2020-01-25\n",
       "4    2020-01-26\n",
       "Name: Date, dtype: object"
      ]
     },
     "execution_count": 4,
     "metadata": {},
     "output_type": "execute_result"
    }
   ],
   "source": [
    "df['Date'].head()"
   ]
  },
  {
   "cell_type": "markdown",
   "metadata": {},
   "source": [
    "#### Nos données contiennent des dates mais dans un objet chaîne, elles seront donc transformées en un objet datetime afin de les tracer "
   ]
  },
  {
   "cell_type": "code",
   "execution_count": 5,
   "metadata": {},
   "outputs": [],
   "source": [
    "def convert_to_date(value):\n",
    "    return datetime.strptime(value, '%Y-%m-%d')\n",
    "df['Date'] = df['Date'].apply(convert_to_date)"
   ]
  },
  {
   "cell_type": "code",
   "execution_count": 6,
   "metadata": {},
   "outputs": [
    {
     "data": {
      "text/plain": [
       "0   2020-01-22\n",
       "1   2020-01-23\n",
       "2   2020-01-24\n",
       "3   2020-01-25\n",
       "4   2020-01-26\n",
       "Name: Date, dtype: datetime64[ns]"
      ]
     },
     "execution_count": 6,
     "metadata": {},
     "output_type": "execute_result"
    }
   ],
   "source": [
    "df['Date'].head()"
   ]
  },
  {
   "cell_type": "markdown",
   "metadata": {},
   "source": [
    "#### Nous regrouperons les données par pays"
   ]
  },
  {
   "cell_type": "code",
   "execution_count": 7,
   "metadata": {},
   "outputs": [],
   "source": [
    "def groupDataBycountry(country):\n",
    "    gk=df.groupby('Country/Region')\n",
    "    final_dataset=(gk.get_group(country))[['Date','Confirmed','Recovered','Deaths']]\n",
    "    return final_dataset.set_index('Date')"
   ]
  },
  {
   "cell_type": "markdown",
   "metadata": {},
   "source": [
    "#### Ensuite, on fait l'extraction des données groupées le nombre de cas touchés, le nombre de décès et le nombre de cas récupérés d'aujourd'hui"
   ]
  },
  {
   "cell_type": "code",
   "execution_count": 8,
   "metadata": {},
   "outputs": [],
   "source": [
    "def extract_last_case(country):\n",
    "    data=groupDataBycountry(country)\n",
    "    d=data.iloc[-1]\n",
    "    return (data.index[-1],d['Confirmed'],d['Recovered'],d['Deaths'])"
   ]
  },
  {
   "cell_type": "markdown",
   "metadata": {},
   "source": [
    "#### Maintenant, nous allons définir des fonctions qui tracent les trois cas"
   ]
  },
  {
   "cell_type": "code",
   "execution_count": 9,
   "metadata": {},
   "outputs": [],
   "source": [
    "def plot_confirmed_cases(fig,data):\n",
    "    fig.add_trace(graph.Scatter(\n",
    "            x=data.index, y=data.Confirmed ,  name='Confirmé',fill=\"tozeroy\",\n",
    "            marker_color='#77b5fe'\n",
    "        ))"
   ]
  },
  {
   "cell_type": "code",
   "execution_count": 10,
   "metadata": {},
   "outputs": [],
   "source": [
    "def plot_recovered_cases(fig,data):\n",
    "    fig.add_trace(graph.Scatter(\n",
    "            x=data.index, y=data.Recovered ,  name='Rétabli',fill=\"tozeroy\",\n",
    "            marker_color='rgb(63, 226, 101)'\n",
    "        ))"
   ]
  },
  {
   "cell_type": "code",
   "execution_count": 11,
   "metadata": {},
   "outputs": [],
   "source": [
    "def plot_deaths(fig,data):\n",
    "    fig.add_trace(graph.Scatter(\n",
    "            x=data.index, y=data.Deaths ,  name='Morts',fill=\"tozeroy\",\n",
    "            marker_color='rgb(255, 153, 153)'\n",
    "        ))"
   ]
  },
  {
   "cell_type": "markdown",
   "metadata": {},
   "source": [
    "#### la fonction ci-dessous appliquera le bon thème à notre graph (clair / foncé)"
   ]
  },
  {
   "cell_type": "code",
   "execution_count": 12,
   "metadata": {},
   "outputs": [],
   "source": [
    "def apply_theme(fig,country,color_theme,font_color):\n",
    "    fig.layout.update({\n",
    "    'plot_bgcolor': color_theme,\n",
    "    'paper_bgcolor': 'rgba(0,0,0,0)',\n",
    "    })\n",
    "    fig.layout.update(\n",
    "        title={\n",
    "        'text': \"COVID-19 Evolution dans \"+country,\n",
    "        'y':0.9,\n",
    "        'x':0.5,\n",
    "        'xanchor': 'center',\n",
    "        'yanchor': 'top'},\n",
    "        xaxis_title=\"Date\",\n",
    "        yaxis_title=\"Cas\",\n",
    "        legend=dict(\n",
    "            x=0.01,\n",
    "            y=1,\n",
    "            traceorder=\"normal\",\n",
    "            font=dict(\n",
    "                family=\"sans-serif\",\n",
    "                size=12,\n",
    "                color=font_color\n",
    "            ),\n",
    "            bordercolor=color_theme,\n",
    "            borderwidth=1\n",
    "        ))\n",
    "    fig.update_xaxes(showline=True, linewidth=1, linecolor='gray')\n",
    "    fig.update_yaxes(showline=True, linewidth=1, linecolor='gray')"
   ]
  },
  {
   "cell_type": "markdown",
   "metadata": {},
   "source": [
    "#### la fonction qui trace le graphique en fonction du pays choisi"
   ]
  },
  {
   "cell_type": "code",
   "execution_count": 13,
   "metadata": {},
   "outputs": [],
   "source": [
    "def plot_graph(data,country,confirmed,recovered,deaths,theme):\n",
    "    fig=graph.Figure()\n",
    "    if(confirmed==True):\n",
    "        plot_confirmed_cases(fig,data)\n",
    "    if(recovered==True):\n",
    "        plot_recovered_cases(fig,data)\n",
    "    if(deaths==True):\n",
    "        plot_deaths(fig,data)\n",
    "    if(theme==\"Foncé\"):\n",
    "        color_theme=\"rgb(50,50,50)\"\n",
    "        font_color=\"white\"\n",
    "    else:\n",
    "        color_theme=\"rgba(0,0,0,0)\"\n",
    "        font_color=\"black\"\n",
    "    apply_theme(fig,country,color_theme,font_color)\n",
    "    fig.show()"
   ]
  },
  {
   "cell_type": "markdown",
   "metadata": {},
   "source": [
    "#### Ensuite, nous définirons les widgets utilisés"
   ]
  },
  {
   "cell_type": "code",
   "execution_count": 14,
   "metadata": {},
   "outputs": [],
   "source": [
    "dropdown=ipw.Dropdown(options=list(dict.fromkeys(df['Country/Region'].tolist())),description=\"Pays :\")\n",
    "deaths=ipw.Checkbox( \n",
    "    value=False,\n",
    "    description='Morts',\n",
    "    disabled=False\n",
    ")\n",
    "recovered=ipw.Checkbox( \n",
    "    value=False,\n",
    "    description='Rétabli',\n",
    "    disabled=False\n",
    ")\n",
    "confirmed=ipw.Checkbox( \n",
    "    value=True,\n",
    "    description='Confirmé',\n",
    "    disabled=False\n",
    ")\n",
    "theme=ipw.RadioButtons(\n",
    "    options=['Clair', 'Foncé'],\n",
    "    description=\"theme :\",\n",
    "    value='Clair',\n",
    "    disabled=False\n",
    ")"
   ]
  },
  {
   "cell_type": "markdown",
   "metadata": {},
   "source": [
    "####  la fonction exécuter appelle toutes les autres fonctions écrites ci-dessus"
   ]
  },
  {
   "cell_type": "code",
   "execution_count": 15,
   "metadata": {},
   "outputs": [],
   "source": [
    "global Title\n",
    "global Title2"
   ]
  },
  {
   "cell_type": "code",
   "execution_count": 16,
   "metadata": {},
   "outputs": [],
   "source": [
    "def execute(country,confirmed,recovered,deaths,theme):\n",
    "    data=groupDataBycountry(country)\n",
    "    v=extract_last_case(country)\n",
    "    Title=ipw.HTML(value=\"<center><h3> Evolution de <font color='#07CEF5'>COVID-19</font> dans le pays <font color='blue'>\"+country+\"</font></h3></center>\")\n",
    "    Title2=ipw.HTML(value=\"<center><h4><font >\"+str(v[0])+\" </font>  <font color='blue'>Confirmé : </font>\"+str(v[1])+\" <font color='green'>Rétabli : </font>\"+str(v[2])+\" <font color='red'>Morts : </font>\"+str(v[3])+\"</h4></center>\")\n",
    "    display(Title,Title2)\n",
    "    return plot_graph(data,country,confirmed,recovered,deaths,theme)"
   ]
  },
  {
   "cell_type": "markdown",
   "metadata": {},
   "source": [
    "#### Finalement, nous écrivons la fonction qui sera appelée chaque fois que nous interagirons avec les widgets"
   ]
  },
  {
   "cell_type": "code",
   "execution_count": 17,
   "metadata": {},
   "outputs": [
    {
     "data": {
      "application/vnd.jupyter.widget-view+json": {
       "model_id": "7d53b13ec8e74434bd21431ccd3b5c6e",
       "version_major": 2,
       "version_minor": 0
      },
      "text/plain": [
       "HTML(value=\"<U><center><h1>Choisissez <font color='#BA48E1'> le pays</font> ,<font color='#F2B603'>les cas </f…"
      ]
     },
     "metadata": {},
     "output_type": "display_data"
    },
    {
     "data": {
      "application/vnd.jupyter.widget-view+json": {
       "model_id": "8ec8e4ca5dcb4498a5656f34ad7de1ba",
       "version_major": 2,
       "version_minor": 0
      },
      "text/plain": [
       "HTML(value=\"<center><h4><font color='red'>Par ESSADIK Ibtissam</font>\")"
      ]
     },
     "metadata": {},
     "output_type": "display_data"
    },
    {
     "data": {
      "application/vnd.jupyter.widget-view+json": {
       "model_id": "dd00e972ca8a4b7aa423b6d76bcdcf76",
       "version_major": 2,
       "version_minor": 0
      },
      "text/plain": [
       "interactive(children=(Dropdown(description='Pays :', options=('Afghanistan', 'Albania', 'Algeria', 'Andorra', …"
      ]
     },
     "metadata": {},
     "output_type": "display_data"
    }
   ],
   "source": [
    "Title1=ipw.HTML(value=\"<center><h4><font color='red'>Par ESSADIK Ibtissam</font>\")    \n",
    "display(ipw.HTML(value=\"<U><center><h1>Choisissez <font color='#BA48E1'> le pays</font> ,<font color='#F2B603'>les cas </font> que vous souhaitez voir et le <font color='#049393'>thème</font></center> </U>\"),Title1)\n",
    "def final(a,b,c,d,e):\n",
    "    execute(dropdown.value,confirmed.value,recovered.value,deaths.value,theme.value)\n",
    "w=interactive(final,a=dropdown,b=deaths,c=recovered,d=confirmed,e=theme)\n",
    "w"
   ]
  }
 ],
 "metadata": {
  "kernelspec": {
   "display_name": "Python 3",
   "language": "python",
   "name": "python3"
  },
  "language_info": {
   "codemirror_mode": {
    "name": "ipython",
    "version": 3
   },
   "file_extension": ".py",
   "mimetype": "text/x-python",
   "name": "python",
   "nbconvert_exporter": "python",
   "pygments_lexer": "ipython3",
   "version": "3.6.8"
  }
 },
 "nbformat": 4,
 "nbformat_minor": 2
}
